{
  "nbformat": 4,
  "nbformat_minor": 0,
  "metadata": {
    "colab": {
      "name": "Music Genre Classification.ipynb",
      "provenance": [],
      "collapsed_sections": []
    },
    "kernelspec": {
      "name": "python3",
      "display_name": "Python 3"
    },
    "language_info": {
      "name": "python"
    }
  },
  "cells": [
    {
      "cell_type": "code",
      "metadata": {
        "id": "wz4C3ANzZxoC"
      },
      "source": [
        "import pandas as pd\n",
        "import numpy as np\n",
        "import matplotlib.pyplot as plt"
      ],
      "execution_count": null,
      "outputs": []
    },
    {
      "cell_type": "code",
      "metadata": {
        "colab": {
          "base_uri": "https://localhost:8080/"
        },
        "id": "PVRoinw4Z1sn",
        "outputId": "f8b62098-77b2-4a7a-b343-6dd4ae0c26b8"
      },
      "source": [
        "from google.colab import drive\n",
        "drive.mount(\"/content/gdrive\")"
      ],
      "execution_count": null,
      "outputs": [
        {
          "output_type": "stream",
          "text": [
            "Drive already mounted at /content/gdrive; to attempt to forcibly remount, call drive.mount(\"/content/gdrive\", force_remount=True).\n"
          ],
          "name": "stdout"
        }
      ]
    },
    {
      "cell_type": "code",
      "metadata": {
        "id": "jSMxkCjKZ3Gj"
      },
      "source": [
        "df=pd.read_csv('/content/gdrive/My Drive/Dataset/data2.csv')"
      ],
      "execution_count": null,
      "outputs": []
    },
    {
      "cell_type": "code",
      "metadata": {
        "colab": {
          "base_uri": "https://localhost:8080/",
          "height": 226
        },
        "id": "qdEaQtB9Z4yq",
        "outputId": "96340e2c-b82c-4800-a7ee-600b2cfcd324"
      },
      "source": [
        "df.head()"
      ],
      "execution_count": null,
      "outputs": [
        {
          "output_type": "execute_result",
          "data": {
            "text/html": [
              "<div>\n",
              "<style scoped>\n",
              "    .dataframe tbody tr th:only-of-type {\n",
              "        vertical-align: middle;\n",
              "    }\n",
              "\n",
              "    .dataframe tbody tr th {\n",
              "        vertical-align: top;\n",
              "    }\n",
              "\n",
              "    .dataframe thead th {\n",
              "        text-align: right;\n",
              "    }\n",
              "</style>\n",
              "<table border=\"1\" class=\"dataframe\">\n",
              "  <thead>\n",
              "    <tr style=\"text-align: right;\">\n",
              "      <th></th>\n",
              "      <th>class_name</th>\n",
              "      <th>tempo</th>\n",
              "      <th>beats</th>\n",
              "      <th>chroma_stft</th>\n",
              "      <th>rmse</th>\n",
              "      <th>spectral_centroid</th>\n",
              "      <th>spectral_bandwidth</th>\n",
              "      <th>rolloff</th>\n",
              "      <th>zero_crossing_rate</th>\n",
              "      <th>mfcc1</th>\n",
              "      <th>mfcc2</th>\n",
              "      <th>mfcc3</th>\n",
              "      <th>mfcc4</th>\n",
              "      <th>mfcc5</th>\n",
              "      <th>mfcc6</th>\n",
              "      <th>mfcc7</th>\n",
              "      <th>mfcc8</th>\n",
              "      <th>mfcc9</th>\n",
              "      <th>mfcc10</th>\n",
              "      <th>mfcc11</th>\n",
              "      <th>mfcc12</th>\n",
              "      <th>mfcc13</th>\n",
              "      <th>mfcc14</th>\n",
              "      <th>mfcc15</th>\n",
              "      <th>mfcc16</th>\n",
              "      <th>mfcc17</th>\n",
              "      <th>mfcc18</th>\n",
              "      <th>mfcc19</th>\n",
              "      <th>mfcc20</th>\n",
              "      <th>label</th>\n",
              "    </tr>\n",
              "  </thead>\n",
              "  <tbody>\n",
              "    <tr>\n",
              "      <th>0</th>\n",
              "      <td>blues</td>\n",
              "      <td>103.359375</td>\n",
              "      <td>50</td>\n",
              "      <td>0.380260</td>\n",
              "      <td>0.248262</td>\n",
              "      <td>2116.942959</td>\n",
              "      <td>1956.611056</td>\n",
              "      <td>4196.107960</td>\n",
              "      <td>0.127272</td>\n",
              "      <td>-26.929785</td>\n",
              "      <td>107.334008</td>\n",
              "      <td>-46.809993</td>\n",
              "      <td>40.932634</td>\n",
              "      <td>-21.463776</td>\n",
              "      <td>24.816275</td>\n",
              "      <td>-18.945571</td>\n",
              "      <td>15.253459</td>\n",
              "      <td>-15.050104</td>\n",
              "      <td>12.262823</td>\n",
              "      <td>-15.234050</td>\n",
              "      <td>14.336612</td>\n",
              "      <td>-13.821769</td>\n",
              "      <td>7.562789</td>\n",
              "      <td>-6.181372</td>\n",
              "      <td>0.330165</td>\n",
              "      <td>-6.829571</td>\n",
              "      <td>0.965922</td>\n",
              "      <td>-7.570825</td>\n",
              "      <td>2.918987</td>\n",
              "      <td>blues</td>\n",
              "    </tr>\n",
              "    <tr>\n",
              "      <th>1</th>\n",
              "      <td>blues</td>\n",
              "      <td>95.703125</td>\n",
              "      <td>44</td>\n",
              "      <td>0.306451</td>\n",
              "      <td>0.113475</td>\n",
              "      <td>1156.070496</td>\n",
              "      <td>1497.668176</td>\n",
              "      <td>2170.053545</td>\n",
              "      <td>0.058613</td>\n",
              "      <td>-233.860772</td>\n",
              "      <td>136.170239</td>\n",
              "      <td>3.289490</td>\n",
              "      <td>48.931193</td>\n",
              "      <td>8.699106</td>\n",
              "      <td>13.954752</td>\n",
              "      <td>5.359449</td>\n",
              "      <td>0.381334</td>\n",
              "      <td>-13.490265</td>\n",
              "      <td>16.871769</td>\n",
              "      <td>5.145258</td>\n",
              "      <td>-2.250578</td>\n",
              "      <td>3.959198</td>\n",
              "      <td>5.322555</td>\n",
              "      <td>0.812028</td>\n",
              "      <td>-1.107202</td>\n",
              "      <td>-4.556555</td>\n",
              "      <td>-2.436490</td>\n",
              "      <td>3.316913</td>\n",
              "      <td>-0.608485</td>\n",
              "      <td>blues</td>\n",
              "    </tr>\n",
              "    <tr>\n",
              "      <th>2</th>\n",
              "      <td>blues</td>\n",
              "      <td>151.999081</td>\n",
              "      <td>75</td>\n",
              "      <td>0.253487</td>\n",
              "      <td>0.151571</td>\n",
              "      <td>1331.073970</td>\n",
              "      <td>1973.643437</td>\n",
              "      <td>2900.174130</td>\n",
              "      <td>0.042967</td>\n",
              "      <td>-221.802549</td>\n",
              "      <td>110.843070</td>\n",
              "      <td>18.620984</td>\n",
              "      <td>30.922996</td>\n",
              "      <td>3.291330</td>\n",
              "      <td>22.587447</td>\n",
              "      <td>-20.418303</td>\n",
              "      <td>12.120995</td>\n",
              "      <td>-26.347956</td>\n",
              "      <td>-4.356270</td>\n",
              "      <td>-26.406674</td>\n",
              "      <td>-13.037723</td>\n",
              "      <td>-12.652228</td>\n",
              "      <td>-1.821905</td>\n",
              "      <td>-7.260097</td>\n",
              "      <td>-6.660252</td>\n",
              "      <td>-14.682694</td>\n",
              "      <td>-11.719264</td>\n",
              "      <td>-11.025216</td>\n",
              "      <td>-13.387260</td>\n",
              "      <td>blues</td>\n",
              "    </tr>\n",
              "    <tr>\n",
              "      <th>3</th>\n",
              "      <td>blues</td>\n",
              "      <td>184.570312</td>\n",
              "      <td>91</td>\n",
              "      <td>0.269320</td>\n",
              "      <td>0.119072</td>\n",
              "      <td>1361.045467</td>\n",
              "      <td>1567.804596</td>\n",
              "      <td>2739.625101</td>\n",
              "      <td>0.069124</td>\n",
              "      <td>-207.208080</td>\n",
              "      <td>132.799175</td>\n",
              "      <td>-15.438986</td>\n",
              "      <td>60.986727</td>\n",
              "      <td>0.725807</td>\n",
              "      <td>12.437828</td>\n",
              "      <td>1.183836</td>\n",
              "      <td>-1.540779</td>\n",
              "      <td>-17.888154</td>\n",
              "      <td>8.358496</td>\n",
              "      <td>-2.452068</td>\n",
              "      <td>-0.613248</td>\n",
              "      <td>0.384877</td>\n",
              "      <td>2.605128</td>\n",
              "      <td>-5.188924</td>\n",
              "      <td>-9.527455</td>\n",
              "      <td>-9.244394</td>\n",
              "      <td>-2.848274</td>\n",
              "      <td>-1.418707</td>\n",
              "      <td>-5.932607</td>\n",
              "      <td>blues</td>\n",
              "    </tr>\n",
              "    <tr>\n",
              "      <th>4</th>\n",
              "      <td>blues</td>\n",
              "      <td>161.499023</td>\n",
              "      <td>74</td>\n",
              "      <td>0.391059</td>\n",
              "      <td>0.137728</td>\n",
              "      <td>1811.076084</td>\n",
              "      <td>2052.332563</td>\n",
              "      <td>3927.809582</td>\n",
              "      <td>0.075480</td>\n",
              "      <td>-145.434568</td>\n",
              "      <td>102.829023</td>\n",
              "      <td>-12.517677</td>\n",
              "      <td>56.993472</td>\n",
              "      <td>2.271347</td>\n",
              "      <td>26.591402</td>\n",
              "      <td>-4.274803</td>\n",
              "      <td>17.338809</td>\n",
              "      <td>-7.985593</td>\n",
              "      <td>15.235427</td>\n",
              "      <td>-6.934599</td>\n",
              "      <td>7.457218</td>\n",
              "      <td>-10.470444</td>\n",
              "      <td>-2.360483</td>\n",
              "      <td>-6.783623</td>\n",
              "      <td>2.671134</td>\n",
              "      <td>-4.760879</td>\n",
              "      <td>-0.949005</td>\n",
              "      <td>0.024832</td>\n",
              "      <td>-2.005315</td>\n",
              "      <td>blues</td>\n",
              "    </tr>\n",
              "  </tbody>\n",
              "</table>\n",
              "</div>"
            ],
            "text/plain": [
              "  class_name       tempo  beats  ...     mfcc19     mfcc20  label\n",
              "0      blues  103.359375     50  ...  -7.570825   2.918987  blues\n",
              "1      blues   95.703125     44  ...   3.316913  -0.608485  blues\n",
              "2      blues  151.999081     75  ... -11.025216 -13.387260  blues\n",
              "3      blues  184.570312     91  ...  -1.418707  -5.932607  blues\n",
              "4      blues  161.499023     74  ...   0.024832  -2.005315  blues\n",
              "\n",
              "[5 rows x 30 columns]"
            ]
          },
          "metadata": {
            "tags": []
          },
          "execution_count": 278
        }
      ]
    },
    {
      "cell_type": "code",
      "metadata": {
        "colab": {
          "base_uri": "https://localhost:8080/"
        },
        "id": "j6-a6KLRbbw1",
        "outputId": "00606bf2-9c8a-405c-9654-5de8e6209769"
      },
      "source": [
        "df.columns"
      ],
      "execution_count": null,
      "outputs": [
        {
          "output_type": "execute_result",
          "data": {
            "text/plain": [
              "Index(['class_name', 'tempo', 'beats', 'chroma_stft', 'rmse',\n",
              "       'spectral_centroid', 'spectral_bandwidth', 'rolloff',\n",
              "       'zero_crossing_rate', 'mfcc1', 'mfcc2', 'mfcc3', 'mfcc4', 'mfcc5',\n",
              "       'mfcc6', 'mfcc7', 'mfcc8', 'mfcc9', 'mfcc10', 'mfcc11', 'mfcc12',\n",
              "       'mfcc13', 'mfcc14', 'mfcc15', 'mfcc16', 'mfcc17', 'mfcc18', 'mfcc19',\n",
              "       'mfcc20', 'label'],\n",
              "      dtype='object')"
            ]
          },
          "metadata": {
            "tags": []
          },
          "execution_count": 279
        }
      ]
    },
    {
      "cell_type": "code",
      "metadata": {
        "id": "4JpFK3C5aB16"
      },
      "source": [
        "df = df.drop(['beats'], axis=1)"
      ],
      "execution_count": null,
      "outputs": []
    },
    {
      "cell_type": "markdown",
      "metadata": {
        "id": "3N5rwg4LbqKM"
      },
      "source": [
        "## **Preprocesing**"
      ]
    },
    {
      "cell_type": "code",
      "metadata": {
        "colab": {
          "base_uri": "https://localhost:8080/"
        },
        "id": "pUYIr2OJbs8V",
        "outputId": "922a1457-d6e1-4ab0-871e-6b25ee675458"
      },
      "source": [
        "df['class_name'].unique()"
      ],
      "execution_count": null,
      "outputs": [
        {
          "output_type": "execute_result",
          "data": {
            "text/plain": [
              "array(['blues', 'classical', 'country', 'disco', 'hiphop', 'jazz',\n",
              "       'metal', 'pop', 'reggae', 'rock'], dtype=object)"
            ]
          },
          "metadata": {
            "tags": []
          },
          "execution_count": 281
        }
      ]
    },
    {
      "cell_type": "code",
      "metadata": {
        "colab": {
          "base_uri": "https://localhost:8080/"
        },
        "id": "kn682uyBieoK",
        "outputId": "9efa76b2-37ac-4b46-8941-353225feb11b"
      },
      "source": [
        "df['label'].unique()"
      ],
      "execution_count": null,
      "outputs": [
        {
          "output_type": "execute_result",
          "data": {
            "text/plain": [
              "array(['blues', 'classical', 'country', 'disco', 'hiphop', 'jazz',\n",
              "       'metal', 'pop', 'reggae', 'rock'], dtype=object)"
            ]
          },
          "metadata": {
            "tags": []
          },
          "execution_count": 282
        }
      ]
    },
    {
      "cell_type": "code",
      "metadata": {
        "id": "dCn_odUacIot"
      },
      "source": [
        "df['class_name'] = df['class_name'].astype('category')\n",
        "df['class_label'] = df['class_name'].cat.codes"
      ],
      "execution_count": null,
      "outputs": []
    },
    {
      "cell_type": "code",
      "metadata": {
        "colab": {
          "base_uri": "https://localhost:8080/"
        },
        "id": "LeguhUm9j7q1",
        "outputId": "1bd1c987-5fd5-42cc-c746-d16ea57aef06"
      },
      "source": [
        "df['class_label'].unique()"
      ],
      "execution_count": null,
      "outputs": [
        {
          "output_type": "execute_result",
          "data": {
            "text/plain": [
              "array([0, 1, 2, 3, 4, 5, 6, 7, 8, 9], dtype=int8)"
            ]
          },
          "metadata": {
            "tags": []
          },
          "execution_count": 284
        }
      ]
    },
    {
      "cell_type": "code",
      "metadata": {
        "colab": {
          "base_uri": "https://localhost:8080/"
        },
        "id": "h-aIEVhzcOAt",
        "outputId": "a859fc29-aed3-423e-87b4-53520ef0f23b"
      },
      "source": [
        "df['class_name'].unique()"
      ],
      "execution_count": null,
      "outputs": [
        {
          "output_type": "execute_result",
          "data": {
            "text/plain": [
              "['blues', 'classical', 'country', 'disco', 'hiphop', 'jazz', 'metal', 'pop', 'reggae', 'rock']\n",
              "Categories (10, object): ['blues', 'classical', 'country', 'disco', ..., 'metal', 'pop', 'reggae',\n",
              "                          'rock']"
            ]
          },
          "metadata": {
            "tags": []
          },
          "execution_count": 285
        }
      ]
    },
    {
      "cell_type": "code",
      "metadata": {
        "colab": {
          "base_uri": "https://localhost:8080/"
        },
        "id": "lL8GhVN4cKhx",
        "outputId": "6a61a23c-5c1a-42b6-b2e4-e711185bc8cb"
      },
      "source": [
        "lookup_genre_name = dict(zip(df.class_label.unique(), df.class_name.unique()))   \n",
        "lookup_genre_name"
      ],
      "execution_count": null,
      "outputs": [
        {
          "output_type": "execute_result",
          "data": {
            "text/plain": [
              "{0: 'blues',\n",
              " 1: 'classical',\n",
              " 2: 'country',\n",
              " 3: 'disco',\n",
              " 4: 'hiphop',\n",
              " 5: 'jazz',\n",
              " 6: 'metal',\n",
              " 7: 'pop',\n",
              " 8: 'reggae',\n",
              " 9: 'rock'}"
            ]
          },
          "metadata": {
            "tags": []
          },
          "execution_count": 286
        }
      ]
    },
    {
      "cell_type": "code",
      "metadata": {
        "id": "ny3iyKQscRpz",
        "colab": {
          "base_uri": "https://localhost:8080/"
        },
        "outputId": "37d8fc84-6960-46d5-fa97-fa12a8c4e368"
      },
      "source": [
        "cols = list(df.columns)\n",
        "cols.remove('label')\n",
        "cols.remove('class_label')\n",
        "cols.remove('class_name')\n",
        "#df[cols]\n",
        "print(len(cols))"
      ],
      "execution_count": null,
      "outputs": [
        {
          "output_type": "stream",
          "text": [
            "27\n"
          ],
          "name": "stdout"
        }
      ]
    },
    {
      "cell_type": "code",
      "metadata": {
        "id": "t2tfx_cncTlB",
        "colab": {
          "base_uri": "https://localhost:8080/",
          "height": 226
        },
        "outputId": "2bde7599-146f-4e74-fcb0-dd3f799d33d7"
      },
      "source": [
        "df.head()"
      ],
      "execution_count": null,
      "outputs": [
        {
          "output_type": "execute_result",
          "data": {
            "text/html": [
              "<div>\n",
              "<style scoped>\n",
              "    .dataframe tbody tr th:only-of-type {\n",
              "        vertical-align: middle;\n",
              "    }\n",
              "\n",
              "    .dataframe tbody tr th {\n",
              "        vertical-align: top;\n",
              "    }\n",
              "\n",
              "    .dataframe thead th {\n",
              "        text-align: right;\n",
              "    }\n",
              "</style>\n",
              "<table border=\"1\" class=\"dataframe\">\n",
              "  <thead>\n",
              "    <tr style=\"text-align: right;\">\n",
              "      <th></th>\n",
              "      <th>class_name</th>\n",
              "      <th>tempo</th>\n",
              "      <th>chroma_stft</th>\n",
              "      <th>rmse</th>\n",
              "      <th>spectral_centroid</th>\n",
              "      <th>spectral_bandwidth</th>\n",
              "      <th>rolloff</th>\n",
              "      <th>zero_crossing_rate</th>\n",
              "      <th>mfcc1</th>\n",
              "      <th>mfcc2</th>\n",
              "      <th>mfcc3</th>\n",
              "      <th>mfcc4</th>\n",
              "      <th>mfcc5</th>\n",
              "      <th>mfcc6</th>\n",
              "      <th>mfcc7</th>\n",
              "      <th>mfcc8</th>\n",
              "      <th>mfcc9</th>\n",
              "      <th>mfcc10</th>\n",
              "      <th>mfcc11</th>\n",
              "      <th>mfcc12</th>\n",
              "      <th>mfcc13</th>\n",
              "      <th>mfcc14</th>\n",
              "      <th>mfcc15</th>\n",
              "      <th>mfcc16</th>\n",
              "      <th>mfcc17</th>\n",
              "      <th>mfcc18</th>\n",
              "      <th>mfcc19</th>\n",
              "      <th>mfcc20</th>\n",
              "      <th>label</th>\n",
              "      <th>class_label</th>\n",
              "    </tr>\n",
              "  </thead>\n",
              "  <tbody>\n",
              "    <tr>\n",
              "      <th>0</th>\n",
              "      <td>blues</td>\n",
              "      <td>103.359375</td>\n",
              "      <td>0.380260</td>\n",
              "      <td>0.248262</td>\n",
              "      <td>2116.942959</td>\n",
              "      <td>1956.611056</td>\n",
              "      <td>4196.107960</td>\n",
              "      <td>0.127272</td>\n",
              "      <td>-26.929785</td>\n",
              "      <td>107.334008</td>\n",
              "      <td>-46.809993</td>\n",
              "      <td>40.932634</td>\n",
              "      <td>-21.463776</td>\n",
              "      <td>24.816275</td>\n",
              "      <td>-18.945571</td>\n",
              "      <td>15.253459</td>\n",
              "      <td>-15.050104</td>\n",
              "      <td>12.262823</td>\n",
              "      <td>-15.234050</td>\n",
              "      <td>14.336612</td>\n",
              "      <td>-13.821769</td>\n",
              "      <td>7.562789</td>\n",
              "      <td>-6.181372</td>\n",
              "      <td>0.330165</td>\n",
              "      <td>-6.829571</td>\n",
              "      <td>0.965922</td>\n",
              "      <td>-7.570825</td>\n",
              "      <td>2.918987</td>\n",
              "      <td>blues</td>\n",
              "      <td>0</td>\n",
              "    </tr>\n",
              "    <tr>\n",
              "      <th>1</th>\n",
              "      <td>blues</td>\n",
              "      <td>95.703125</td>\n",
              "      <td>0.306451</td>\n",
              "      <td>0.113475</td>\n",
              "      <td>1156.070496</td>\n",
              "      <td>1497.668176</td>\n",
              "      <td>2170.053545</td>\n",
              "      <td>0.058613</td>\n",
              "      <td>-233.860772</td>\n",
              "      <td>136.170239</td>\n",
              "      <td>3.289490</td>\n",
              "      <td>48.931193</td>\n",
              "      <td>8.699106</td>\n",
              "      <td>13.954752</td>\n",
              "      <td>5.359449</td>\n",
              "      <td>0.381334</td>\n",
              "      <td>-13.490265</td>\n",
              "      <td>16.871769</td>\n",
              "      <td>5.145258</td>\n",
              "      <td>-2.250578</td>\n",
              "      <td>3.959198</td>\n",
              "      <td>5.322555</td>\n",
              "      <td>0.812028</td>\n",
              "      <td>-1.107202</td>\n",
              "      <td>-4.556555</td>\n",
              "      <td>-2.436490</td>\n",
              "      <td>3.316913</td>\n",
              "      <td>-0.608485</td>\n",
              "      <td>blues</td>\n",
              "      <td>0</td>\n",
              "    </tr>\n",
              "    <tr>\n",
              "      <th>2</th>\n",
              "      <td>blues</td>\n",
              "      <td>151.999081</td>\n",
              "      <td>0.253487</td>\n",
              "      <td>0.151571</td>\n",
              "      <td>1331.073970</td>\n",
              "      <td>1973.643437</td>\n",
              "      <td>2900.174130</td>\n",
              "      <td>0.042967</td>\n",
              "      <td>-221.802549</td>\n",
              "      <td>110.843070</td>\n",
              "      <td>18.620984</td>\n",
              "      <td>30.922996</td>\n",
              "      <td>3.291330</td>\n",
              "      <td>22.587447</td>\n",
              "      <td>-20.418303</td>\n",
              "      <td>12.120995</td>\n",
              "      <td>-26.347956</td>\n",
              "      <td>-4.356270</td>\n",
              "      <td>-26.406674</td>\n",
              "      <td>-13.037723</td>\n",
              "      <td>-12.652228</td>\n",
              "      <td>-1.821905</td>\n",
              "      <td>-7.260097</td>\n",
              "      <td>-6.660252</td>\n",
              "      <td>-14.682694</td>\n",
              "      <td>-11.719264</td>\n",
              "      <td>-11.025216</td>\n",
              "      <td>-13.387260</td>\n",
              "      <td>blues</td>\n",
              "      <td>0</td>\n",
              "    </tr>\n",
              "    <tr>\n",
              "      <th>3</th>\n",
              "      <td>blues</td>\n",
              "      <td>184.570312</td>\n",
              "      <td>0.269320</td>\n",
              "      <td>0.119072</td>\n",
              "      <td>1361.045467</td>\n",
              "      <td>1567.804596</td>\n",
              "      <td>2739.625101</td>\n",
              "      <td>0.069124</td>\n",
              "      <td>-207.208080</td>\n",
              "      <td>132.799175</td>\n",
              "      <td>-15.438986</td>\n",
              "      <td>60.986727</td>\n",
              "      <td>0.725807</td>\n",
              "      <td>12.437828</td>\n",
              "      <td>1.183836</td>\n",
              "      <td>-1.540779</td>\n",
              "      <td>-17.888154</td>\n",
              "      <td>8.358496</td>\n",
              "      <td>-2.452068</td>\n",
              "      <td>-0.613248</td>\n",
              "      <td>0.384877</td>\n",
              "      <td>2.605128</td>\n",
              "      <td>-5.188924</td>\n",
              "      <td>-9.527455</td>\n",
              "      <td>-9.244394</td>\n",
              "      <td>-2.848274</td>\n",
              "      <td>-1.418707</td>\n",
              "      <td>-5.932607</td>\n",
              "      <td>blues</td>\n",
              "      <td>0</td>\n",
              "    </tr>\n",
              "    <tr>\n",
              "      <th>4</th>\n",
              "      <td>blues</td>\n",
              "      <td>161.499023</td>\n",
              "      <td>0.391059</td>\n",
              "      <td>0.137728</td>\n",
              "      <td>1811.076084</td>\n",
              "      <td>2052.332563</td>\n",
              "      <td>3927.809582</td>\n",
              "      <td>0.075480</td>\n",
              "      <td>-145.434568</td>\n",
              "      <td>102.829023</td>\n",
              "      <td>-12.517677</td>\n",
              "      <td>56.993472</td>\n",
              "      <td>2.271347</td>\n",
              "      <td>26.591402</td>\n",
              "      <td>-4.274803</td>\n",
              "      <td>17.338809</td>\n",
              "      <td>-7.985593</td>\n",
              "      <td>15.235427</td>\n",
              "      <td>-6.934599</td>\n",
              "      <td>7.457218</td>\n",
              "      <td>-10.470444</td>\n",
              "      <td>-2.360483</td>\n",
              "      <td>-6.783623</td>\n",
              "      <td>2.671134</td>\n",
              "      <td>-4.760879</td>\n",
              "      <td>-0.949005</td>\n",
              "      <td>0.024832</td>\n",
              "      <td>-2.005315</td>\n",
              "      <td>blues</td>\n",
              "      <td>0</td>\n",
              "    </tr>\n",
              "  </tbody>\n",
              "</table>\n",
              "</div>"
            ],
            "text/plain": [
              "  class_name       tempo  chroma_stft  ...     mfcc20  label  class_label\n",
              "0      blues  103.359375     0.380260  ...   2.918987  blues            0\n",
              "1      blues   95.703125     0.306451  ...  -0.608485  blues            0\n",
              "2      blues  151.999081     0.253487  ... -13.387260  blues            0\n",
              "3      blues  184.570312     0.269320  ...  -5.932607  blues            0\n",
              "4      blues  161.499023     0.391059  ...  -2.005315  blues            0\n",
              "\n",
              "[5 rows x 30 columns]"
            ]
          },
          "metadata": {
            "tags": []
          },
          "execution_count": 288
        }
      ]
    },
    {
      "cell_type": "code",
      "metadata": {
        "colab": {
          "base_uri": "https://localhost:8080/"
        },
        "id": "pfrldwA4qZBX",
        "outputId": "86869a8a-fbd7-4189-e7d8-3e5f6d1d9076"
      },
      "source": [
        "df.info()"
      ],
      "execution_count": null,
      "outputs": [
        {
          "output_type": "stream",
          "text": [
            "<class 'pandas.core.frame.DataFrame'>\n",
            "RangeIndex: 1000 entries, 0 to 999\n",
            "Data columns (total 30 columns):\n",
            " #   Column              Non-Null Count  Dtype   \n",
            "---  ------              --------------  -----   \n",
            " 0   class_name          1000 non-null   category\n",
            " 1   tempo               1000 non-null   float64 \n",
            " 2   chroma_stft         1000 non-null   float64 \n",
            " 3   rmse                1000 non-null   float64 \n",
            " 4   spectral_centroid   1000 non-null   float64 \n",
            " 5   spectral_bandwidth  1000 non-null   float64 \n",
            " 6   rolloff             1000 non-null   float64 \n",
            " 7   zero_crossing_rate  1000 non-null   float64 \n",
            " 8   mfcc1               1000 non-null   float64 \n",
            " 9   mfcc2               1000 non-null   float64 \n",
            " 10  mfcc3               1000 non-null   float64 \n",
            " 11  mfcc4               1000 non-null   float64 \n",
            " 12  mfcc5               1000 non-null   float64 \n",
            " 13  mfcc6               1000 non-null   float64 \n",
            " 14  mfcc7               1000 non-null   float64 \n",
            " 15  mfcc8               1000 non-null   float64 \n",
            " 16  mfcc9               1000 non-null   float64 \n",
            " 17  mfcc10              1000 non-null   float64 \n",
            " 18  mfcc11              1000 non-null   float64 \n",
            " 19  mfcc12              1000 non-null   float64 \n",
            " 20  mfcc13              1000 non-null   float64 \n",
            " 21  mfcc14              1000 non-null   float64 \n",
            " 22  mfcc15              1000 non-null   float64 \n",
            " 23  mfcc16              1000 non-null   float64 \n",
            " 24  mfcc17              1000 non-null   float64 \n",
            " 25  mfcc18              1000 non-null   float64 \n",
            " 26  mfcc19              1000 non-null   float64 \n",
            " 27  mfcc20              1000 non-null   float64 \n",
            " 28  label               1000 non-null   object  \n",
            " 29  class_label         1000 non-null   int8    \n",
            "dtypes: category(1), float64(27), int8(1), object(1)\n",
            "memory usage: 221.2+ KB\n"
          ],
          "name": "stdout"
        }
      ]
    },
    {
      "cell_type": "code",
      "metadata": {
        "colab": {
          "base_uri": "https://localhost:8080/"
        },
        "id": "uNbN6FYvqqdq",
        "outputId": "0a542534-c9ea-477a-fa62-0fc518765f5a"
      },
      "source": [
        "df.isnull().sum()"
      ],
      "execution_count": null,
      "outputs": [
        {
          "output_type": "execute_result",
          "data": {
            "text/plain": [
              "class_name            0\n",
              "tempo                 0\n",
              "chroma_stft           0\n",
              "rmse                  0\n",
              "spectral_centroid     0\n",
              "spectral_bandwidth    0\n",
              "rolloff               0\n",
              "zero_crossing_rate    0\n",
              "mfcc1                 0\n",
              "mfcc2                 0\n",
              "mfcc3                 0\n",
              "mfcc4                 0\n",
              "mfcc5                 0\n",
              "mfcc6                 0\n",
              "mfcc7                 0\n",
              "mfcc8                 0\n",
              "mfcc9                 0\n",
              "mfcc10                0\n",
              "mfcc11                0\n",
              "mfcc12                0\n",
              "mfcc13                0\n",
              "mfcc14                0\n",
              "mfcc15                0\n",
              "mfcc16                0\n",
              "mfcc17                0\n",
              "mfcc18                0\n",
              "mfcc19                0\n",
              "mfcc20                0\n",
              "label                 0\n",
              "class_label           0\n",
              "dtype: int64"
            ]
          },
          "metadata": {
            "tags": []
          },
          "execution_count": 290
        }
      ]
    },
    {
      "cell_type": "code",
      "metadata": {
        "colab": {
          "base_uri": "https://localhost:8080/",
          "height": 355
        },
        "id": "oLvBkWc2rB9i",
        "outputId": "67504454-5699-4231-cdec-6b80cb5468d2"
      },
      "source": [
        "import seaborn as sns\n",
        "sns.countplot(df['class_name'])"
      ],
      "execution_count": null,
      "outputs": [
        {
          "output_type": "stream",
          "text": [
            "/usr/local/lib/python3.7/dist-packages/seaborn/_decorators.py:43: FutureWarning: Pass the following variable as a keyword arg: x. From version 0.12, the only valid positional argument will be `data`, and passing other arguments without an explicit keyword will result in an error or misinterpretation.\n",
            "  FutureWarning\n"
          ],
          "name": "stderr"
        },
        {
          "output_type": "execute_result",
          "data": {
            "text/plain": [
              "<matplotlib.axes._subplots.AxesSubplot at 0x7f93b8e6d350>"
            ]
          },
          "metadata": {
            "tags": []
          },
          "execution_count": 291
        },
        {
          "output_type": "display_data",
          "data": {
            "image/png": "[encoded data removed]",
            "text/plain": [
              "<Figure size 432x288 with 1 Axes>"
            ]
          },
          "metadata": {
            "tags": [],
            "needs_background": "light"
          }
        }
      ]
    },
    {
      "cell_type": "markdown",
      "metadata": {
        "id": "qNFf0CjtsIFT"
      },
      "source": [
        ""
      ]
    },
    {
      "cell_type": "markdown",
      "metadata": {
        "id": "_5B-01SEcpB-"
      },
      "source": [
        "## Data Splitting for Training and Testing"
      ]
    },
    {
      "cell_type": "code",
      "metadata": {
        "id": "g9TMpzjpcru4"
      },
      "source": [
        "%matplotlib notebook\n",
        "from sklearn.model_selection import train_test_split\n",
        "import matplotlib.pyplot as plt\n",
        "X = df.iloc[:,1:28]\n",
        "y = df['class_label']"
      ],
      "execution_count": null,
      "outputs": []
    },
    {
      "cell_type": "markdown",
      "metadata": {
        "id": "FxYvYdiucyCo"
      },
      "source": [
        "# Min-Max Normalization"
      ]
    },
    {
      "cell_type": "code",
      "metadata": {
        "id": "ctREE7_kczHu"
      },
      "source": [
        "from sklearn.preprocessing import MinMaxScaler\n",
        "scaler = MinMaxScaler()\n",
        "x= scaler.fit_transform(X)\n",
        "#Splitting\n",
        "X_train_scaled, X_test_scaled, y_train, y_test = train_test_split(x, y, random_state=3)\n"
      ],
      "execution_count": null,
      "outputs": []
    },
    {
      "cell_type": "markdown",
      "metadata": {
        "id": "jQcJ85KGnEVE"
      },
      "source": [
        "## **Feature importance using Random Forest**"
      ]
    },
    {
      "cell_type": "code",
      "metadata": {
        "colab": {
          "base_uri": "https://localhost:8080/"
        },
        "id": "iO8xPW8RRq7o",
        "outputId": "a6127004-6727-4f88-a152-353251339637"
      },
      "source": [
        "pip install matplotlib"
      ],
      "execution_count": null,
      "outputs": [
        {
          "output_type": "stream",
          "text": [
            "Requirement already satisfied: matplotlib in /usr/local/lib/python3.7/dist-packages (3.2.2)\n",
            "Requirement already satisfied: cycler>=0.10 in /usr/local/lib/python3.7/dist-packages (from matplotlib) (0.10.0)\n",
            "Requirement already satisfied: python-dateutil>=2.1 in /usr/local/lib/python3.7/dist-packages (from matplotlib) (2.8.1)\n",
            "Requirement already satisfied: kiwisolver>=1.0.1 in /usr/local/lib/python3.7/dist-packages (from matplotlib) (1.3.1)\n",
            "Requirement already satisfied: numpy>=1.11 in /usr/local/lib/python3.7/dist-packages (from matplotlib) (1.19.5)\n",
            "Requirement already satisfied: pyparsing!=2.0.4,!=2.1.2,!=2.1.6,>=2.0.1 in /usr/local/lib/python3.7/dist-packages (from matplotlib) (2.4.7)\n",
            "Requirement already satisfied: six in /usr/local/lib/python3.7/dist-packages (from cycler>=0.10->matplotlib) (1.15.0)\n"
          ],
          "name": "stdout"
        }
      ]
    },
    {
      "cell_type": "code",
      "metadata": {
        "id": "-mCb-H-_c66L",
        "colab": {
          "base_uri": "https://localhost:8080/",
          "height": 369
        },
        "outputId": "9eff91f2-f3f4-4bea-8dbe-4d12d730c0fe"
      },
      "source": [
        "from sklearn.ensemble import RandomForestClassifier\n",
        "%matplotlib inline\n",
        "clf = RandomForestClassifier(random_state=10, n_jobs=-1).fit(X_train_scaled, y_train)\n",
        "importances = clf.feature_importances_\n",
        "indices = np.argsort(importances)[::-1]\n",
        "names = [X.columns.values[i] for i in indices]\n",
        "plt.figure()\n",
        "plt.title(\"Feature Importance\")\n",
        "plt.bar(range(X.shape[1]), importances[indices])\n",
        "plt.xticks(range(X.shape[1]), names, rotation=90)\n",
        "plt.show()"
      ],
      "execution_count": null,
      "outputs": [
        {
          "output_type": "display_data",
          "data": {
            "image/png": "[encoded data removed]",
            "text/plain": [
              "<Figure size 432x288 with 1 Axes>"
            ]
          },
          "metadata": {
            "tags": [],
            "needs_background": "light"
          }
        }
      ]
    },
    {
      "cell_type": "markdown",
      "metadata": {
        "id": "8VTy12_tnPe0"
      },
      "source": [
        "## Feature importance using Decision Tree"
      ]
    },
    {
      "cell_type": "code",
      "metadata": {
        "colab": {
          "base_uri": "https://localhost:8080/",
          "height": 369
        },
        "id": "IJw1SsAbnTy-",
        "outputId": "f7d41d27-9790-46f2-822e-997091b6c387"
      },
      "source": [
        "from sklearn.tree import DecisionTreeClassifier\n",
        "clf = DecisionTreeClassifier(random_state=0).fit(X_train_scaled, y_train)\n",
        "importances = clf.feature_importances_\n",
        "indices = np.argsort(importances)[::-1]\n",
        "names = [X.columns.values[i] for i in indices]\n",
        "plt.figure()\n",
        "plt.title(\"Feature Importance\")\n",
        "plt.bar(range(X.shape[1]), importances[indices])\n",
        "plt.xticks(range(X.shape[1]), names, rotation=90)\n",
        "plt.show()"
      ],
      "execution_count": null,
      "outputs": [
        {
          "output_type": "display_data",
          "data": {
            "image/png": "[encoded data removed]",
            "text/plain": [
              "<Figure size 432x288 with 1 Axes>"
            ]
          },
          "metadata": {
            "tags": [],
            "needs_background": "light"
          }
        }
      ]
    },
    {
      "cell_type": "code",
      "metadata": {
        "id": "votDZqJ6YwtK"
      },
      "source": [
        "#from sklearn.decomposition import PCA\n",
        "#pca = PCA(n_components=15)\n",
        "#principalComponents = pca.fit_transform(X)\n",
        "#pDf = pd.DataFrame(data = principalComponents\n",
        " #            , columns = ['PC1', 'PC2', 'PC3', 'PC4', 'PC5', 'PC6', 'PC7', 'PC8', 'PC9', 'PC10', 'PC11', 'PC12', 'PC13', 'PC14', 'PC15'])"
      ],
      "execution_count": null,
      "outputs": []
    },
    {
      "cell_type": "code",
      "metadata": {
        "id": "qZa9CWruZu-Z"
      },
      "source": [
        "#X=pDf\n",
        "#X_train, X_test, y_train, y_test = train_test_split(X, y, random_state=3)\n",
        "#X_train_scaled = scaler.fit_transform(X_train)\n",
        "#X_test_scaled = scaler.transform(X_test)"
      ],
      "execution_count": null,
      "outputs": []
    },
    {
      "cell_type": "markdown",
      "metadata": {
        "id": "3KF9wROInaCo"
      },
      "source": [
        "## **KNN ALGORITHM**"
      ]
    },
    {
      "cell_type": "code",
      "metadata": {
        "id": "EohDdXm_nVwe"
      },
      "source": [
        "from sklearn.neighbors import KNeighborsClassifier\n",
        "knn = KNeighborsClassifier()"
      ],
      "execution_count": null,
      "outputs": []
    },
    {
      "cell_type": "markdown",
      "metadata": {
        "id": "gnLqeBrs__hq"
      },
      "source": [
        "Hyperparameter Tuning"
      ]
    },
    {
      "cell_type": "code",
      "metadata": {
        "id": "8gV1mcVpADMB"
      },
      "source": [
        "from sklearn.model_selection import GridSearchCV\n",
        "grid_params={'n_neighbors':[1,2,3,4,5,6,7,8,10,13,15,19], \n",
        "             'weights':['uniform','distance'],\n",
        "             'metric':['euclidean','manhattan']}\n"
      ],
      "execution_count": null,
      "outputs": []
    },
    {
      "cell_type": "code",
      "metadata": {
        "id": "dP73fm2kAsz2"
      },
      "source": [
        "gs_knn=GridSearchCV(knn,\n",
        "                grid_params,\n",
        "                verbose=1,\n",
        "                cv=5,\n",
        "                n_jobs=-1)"
      ],
      "execution_count": null,
      "outputs": []
    },
    {
      "cell_type": "code",
      "metadata": {
        "colab": {
          "base_uri": "https://localhost:8080/"
        },
        "id": "J30y6JRWBbDD",
        "outputId": "df13ed2b-4685-4490-9212-f78933c4f933"
      },
      "source": [
        "gs_knn_final=gs_knn.fit(X_train_scaled, y_train)"
      ],
      "execution_count": null,
      "outputs": [
        {
          "output_type": "stream",
          "text": [
            "Fitting 5 folds for each of 48 candidates, totalling 240 fits\n"
          ],
          "name": "stdout"
        },
        {
          "output_type": "stream",
          "text": [
            "[Parallel(n_jobs=-1)]: Using backend LokyBackend with 2 concurrent workers.\n",
            "[Parallel(n_jobs=-1)]: Done 240 out of 240 | elapsed:    2.1s finished\n"
          ],
          "name": "stderr"
        }
      ]
    },
    {
      "cell_type": "code",
      "metadata": {
        "colab": {
          "base_uri": "https://localhost:8080/"
        },
        "id": "MDs3gZwdBpUR",
        "outputId": "fa5f6b28-9a81-482b-f1e6-f3570eb195b4"
      },
      "source": [
        "gs_knn_final.best_params_"
      ],
      "execution_count": null,
      "outputs": [
        {
          "output_type": "execute_result",
          "data": {
            "text/plain": [
              "{'metric': 'euclidean', 'n_neighbors': 7, 'weights': 'distance'}"
            ]
          },
          "metadata": {
            "tags": []
          },
          "execution_count": 303
        }
      ]
    },
    {
      "cell_type": "markdown",
      "metadata": {
        "id": "BS19yIJwB0ey"
      },
      "source": [
        "Final KNN"
      ]
    },
    {
      "cell_type": "code",
      "metadata": {
        "id": "Q4Dfg9ckBzt2"
      },
      "source": [
        "knn_ = KNeighborsClassifier(n_neighbors=7,\n",
        "                           metric='euclidean',\n",
        "                           weights='distance')\n",
        "knnf=knn_.fit(X_train_scaled, y_train)\n",
        "knn_accuracy=knnf.score(X_test_scaled, y_test)"
      ],
      "execution_count": null,
      "outputs": []
    },
    {
      "cell_type": "code",
      "metadata": {
        "id": "u_5t96tirJOH"
      },
      "source": [
        "y_pred = knnf.predict(X_test_scaled)"
      ],
      "execution_count": null,
      "outputs": []
    },
    {
      "cell_type": "code",
      "metadata": {
        "colab": {
          "base_uri": "https://localhost:8080/"
        },
        "id": "i7kPwM7YClwo",
        "outputId": "7e958609-104f-4052-f4af-22e6b4c7a863"
      },
      "source": [
        "print(\"Accuracy (KNN) = \",knn_accuracy*100,\"%\")"
      ],
      "execution_count": null,
      "outputs": [
        {
          "output_type": "stream",
          "text": [
            "Accuracy (KNN) =  66.8 %\n"
          ],
          "name": "stdout"
        }
      ]
    },
    {
      "cell_type": "code",
      "metadata": {
        "colab": {
          "base_uri": "https://localhost:8080/"
        },
        "id": "eHOpwb6HrVH2",
        "outputId": "ba4d04d8-9dfd-4e3a-86a1-78255b3e5532"
      },
      "source": [
        "from sklearn.metrics import confusion_matrix\n",
        "confusion_matrix(y_test, y_pred)"
      ],
      "execution_count": null,
      "outputs": [
        {
          "output_type": "execute_result",
          "data": {
            "text/plain": [
              "array([[21,  1,  3,  0,  0,  2,  3,  0,  0,  0],\n",
              "       [ 0, 30,  1,  0,  1,  1,  0,  0,  0,  0],\n",
              "       [ 0,  0, 18,  2,  0,  1,  0,  1,  1,  0],\n",
              "       [ 0,  0,  1,  9,  3,  0,  0,  0,  0,  4],\n",
              "       [ 2,  0,  2,  4, 11,  0,  2,  1,  2,  2],\n",
              "       [ 0,  1,  2,  0,  0, 15,  0,  0,  1,  2],\n",
              "       [ 2,  0,  0,  5,  1,  0, 18,  0,  0,  1],\n",
              "       [ 0,  0,  1,  5,  0,  1,  0, 20,  0,  0],\n",
              "       [ 0,  0,  2,  2,  4,  1,  0,  3, 16,  2],\n",
              "       [ 1,  0,  2,  1,  0,  1,  0,  0,  2,  9]])"
            ]
          },
          "metadata": {
            "tags": []
          },
          "execution_count": 307
        }
      ]
    },
    {
      "cell_type": "markdown",
      "metadata": {
        "id": "SaRlenzasJn2"
      },
      "source": [
        "# Support Vector Machine"
      ]
    },
    {
      "cell_type": "code",
      "metadata": {
        "id": "IzG63ApFowlA"
      },
      "source": [
        "from sklearn.svm import SVC"
      ],
      "execution_count": null,
      "outputs": []
    },
    {
      "cell_type": "markdown",
      "metadata": {
        "id": "cldGyUE6K75r"
      },
      "source": [
        "Hyperparameter Tuning"
      ]
    },
    {
      "cell_type": "code",
      "metadata": {
        "id": "o5_a1w2uGPhd"
      },
      "source": [
        "svm=SVC()\n",
        "c=range(1,10)\n",
        "grid_params={'kernel':['linear','poly', 'rbf', 'sigmoid'],\n",
        "             'C':c,\n",
        "             'degree':[1,2,3,4,5],\n",
        "             'gamma':['scale','auto']}"
      ],
      "execution_count": null,
      "outputs": []
    },
    {
      "cell_type": "code",
      "metadata": {
        "id": "ZaN69NVDH-iT"
      },
      "source": [
        "gs_svm=GridSearchCV(svm,\n",
        "                grid_params,\n",
        "                verbose=1,\n",
        "                cv=5,\n",
        "                n_jobs=-1)"
      ],
      "execution_count": null,
      "outputs": []
    },
    {
      "cell_type": "code",
      "metadata": {
        "colab": {
          "base_uri": "https://localhost:8080/"
        },
        "id": "6zQ99vT5IHvM",
        "outputId": "214b7b97-e3b3-443a-ac6a-544165f2b599"
      },
      "source": [
        "gs_svm_final=gs_svm.fit(X_train_scaled, y_train)"
      ],
      "execution_count": null,
      "outputs": [
        {
          "output_type": "stream",
          "text": [
            "[Parallel(n_jobs=-1)]: Using backend LokyBackend with 2 concurrent workers.\n"
          ],
          "name": "stderr"
        },
        {
          "output_type": "stream",
          "text": [
            "Fitting 5 folds for each of 360 candidates, totalling 1800 fits\n"
          ],
          "name": "stdout"
        },
        {
          "output_type": "stream",
          "text": [
            "[Parallel(n_jobs=-1)]: Done 164 tasks      | elapsed:    4.5s\n",
            "[Parallel(n_jobs=-1)]: Done 764 tasks      | elapsed:   20.7s\n",
            "[Parallel(n_jobs=-1)]: Done 1764 tasks      | elapsed:   47.2s\n",
            "[Parallel(n_jobs=-1)]: Done 1800 out of 1800 | elapsed:   48.2s finished\n"
          ],
          "name": "stderr"
        }
      ]
    },
    {
      "cell_type": "code",
      "metadata": {
        "colab": {
          "base_uri": "https://localhost:8080/"
        },
        "id": "4NkFnhH3JrWk",
        "outputId": "65855255-4e72-4fb5-ab30-a030d7515d33"
      },
      "source": [
        "gs_svm_final.best_params_"
      ],
      "execution_count": null,
      "outputs": [
        {
          "output_type": "execute_result",
          "data": {
            "text/plain": [
              "{'C': 6, 'degree': 1, 'gamma': 'scale', 'kernel': 'rbf'}"
            ]
          },
          "metadata": {
            "tags": []
          },
          "execution_count": 312
        }
      ]
    },
    {
      "cell_type": "markdown",
      "metadata": {
        "id": "tcVfVqaQK_Rf"
      },
      "source": [
        "**Final SVM**"
      ]
    },
    {
      "cell_type": "code",
      "metadata": {
        "id": "ISxaXdi7J0XB"
      },
      "source": [
        "clf_ = SVC(kernel = 'rbf', C=6,degree=1,gamma='scale')\n",
        "clff=clf_.fit(X_train_scaled, y_train)\n",
        "svm_accuracy=clff.score(X_test_scaled, y_test)"
      ],
      "execution_count": null,
      "outputs": []
    },
    {
      "cell_type": "code",
      "metadata": {
        "id": "OCKCmvE6rhZu"
      },
      "source": [
        "y_pred = clff.predict(X_test_scaled)"
      ],
      "execution_count": null,
      "outputs": []
    },
    {
      "cell_type": "code",
      "metadata": {
        "colab": {
          "base_uri": "https://localhost:8080/"
        },
        "id": "TyrxyvDiKG7b",
        "outputId": "9d545571-e1db-4f2c-90cb-98597e26da42"
      },
      "source": [
        "print(\"Accuracy(SVM) = \",svm_accuracy*100,\"%\")"
      ],
      "execution_count": null,
      "outputs": [
        {
          "output_type": "stream",
          "text": [
            "Accuracy(SVM) =  73.2 %\n"
          ],
          "name": "stdout"
        }
      ]
    },
    {
      "cell_type": "code",
      "metadata": {
        "id": "1LVbgJOnrsj1",
        "colab": {
          "base_uri": "https://localhost:8080/"
        },
        "outputId": "5f66f9ab-6b80-4971-c6ba-a0359f1539fc"
      },
      "source": [
        "confusion_matrix(y_test, y_pred)"
      ],
      "execution_count": null,
      "outputs": [
        {
          "output_type": "execute_result",
          "data": {
            "text/plain": [
              "array([[22,  0,  2,  0,  0,  2,  2,  0,  1,  1],\n",
              "       [ 0, 30,  1,  0,  1,  1,  0,  0,  0,  0],\n",
              "       [ 1,  0, 19,  0,  0,  2,  0,  0,  0,  1],\n",
              "       [ 0,  0,  0, 11,  4,  0,  0,  0,  0,  2],\n",
              "       [ 1,  0,  0,  2, 16,  0,  1,  1,  4,  1],\n",
              "       [ 1,  0,  1,  1,  0, 18,  0,  0,  0,  0],\n",
              "       [ 2,  0,  0,  0,  1,  1, 21,  0,  0,  2],\n",
              "       [ 0,  0,  0,  1,  1,  1,  0, 22,  2,  0],\n",
              "       [ 0,  0,  2,  0,  5,  1,  0,  2, 18,  2],\n",
              "       [ 3,  0,  2,  3,  0,  0,  1,  0,  1,  6]])"
            ]
          },
          "metadata": {
            "tags": []
          },
          "execution_count": 316
        }
      ]
    },
    {
      "cell_type": "markdown",
      "metadata": {
        "id": "2gyVylak8tOM"
      },
      "source": [
        "## Logistic Regression"
      ]
    },
    {
      "cell_type": "code",
      "metadata": {
        "id": "KPUlREEP_vNz"
      },
      "source": [
        "from sklearn.linear_model import LogisticRegression"
      ],
      "execution_count": null,
      "outputs": []
    },
    {
      "cell_type": "code",
      "metadata": {
        "id": "f3SSRArn-wWs"
      },
      "source": [
        "c=[]\n",
        "a=1\n",
        "for i in range(10,51):\n",
        "  c.append(i/10)"
      ],
      "execution_count": null,
      "outputs": []
    },
    {
      "cell_type": "code",
      "metadata": {
        "id": "B6dlZfGsFpSW"
      },
      "source": [
        "lr = LogisticRegression()\n",
        "grid_params={'penalty':['l2', 'elasticnet'],\n",
        "             'C' : c,\n",
        "             'solver':['lbfgs', 'liblinear', 'sag', 'saga']}"
      ],
      "execution_count": null,
      "outputs": []
    },
    {
      "cell_type": "code",
      "metadata": {
        "id": "QCE0Um_EBKlp"
      },
      "source": [
        "gs_lr=GridSearchCV(lr,\n",
        "                grid_params,\n",
        "                verbose=1,\n",
        "                cv=5,\n",
        "                n_jobs=-1)"
      ],
      "execution_count": null,
      "outputs": []
    },
    {
      "cell_type": "code",
      "metadata": {
        "colab": {
          "base_uri": "https://localhost:8080/"
        },
        "id": "NhhmadwoBRF9",
        "outputId": "6fe7f82b-32f8-4c20-caa6-eb5571ddd54b"
      },
      "source": [
        "gs_lr_final=gs_lr.fit(X_train_scaled, y_train)\n"
      ],
      "execution_count": null,
      "outputs": [
        {
          "output_type": "stream",
          "text": [
            "[Parallel(n_jobs=-1)]: Using backend LokyBackend with 2 concurrent workers.\n"
          ],
          "name": "stderr"
        },
        {
          "output_type": "stream",
          "text": [
            "Fitting 5 folds for each of 328 candidates, totalling 1640 fits\n"
          ],
          "name": "stdout"
        },
        {
          "output_type": "stream",
          "text": [
            "[Parallel(n_jobs=-1)]: Done 272 tasks      | elapsed:    9.1s\n",
            "[Parallel(n_jobs=-1)]: Done 1472 tasks      | elapsed:   49.0s\n",
            "[Parallel(n_jobs=-1)]: Done 1640 out of 1640 | elapsed:   54.5s finished\n",
            "/usr/local/lib/python3.7/dist-packages/sklearn/linear_model/_sag.py:330: ConvergenceWarning: The max_iter was reached which means the coef_ did not converge\n",
            "  \"the coef_ did not converge\", ConvergenceWarning)\n"
          ],
          "name": "stderr"
        }
      ]
    },
    {
      "cell_type": "code",
      "metadata": {
        "colab": {
          "base_uri": "https://localhost:8080/"
        },
        "id": "-ZZDJv7bCWLA",
        "outputId": "9cfbd9b2-1f7a-443d-8633-92aa6b0f2b09"
      },
      "source": [
        "gs_lr_final.best_params_"
      ],
      "execution_count": null,
      "outputs": [
        {
          "output_type": "execute_result",
          "data": {
            "text/plain": [
              "{'C': 4.5, 'penalty': 'l2', 'solver': 'sag'}"
            ]
          },
          "metadata": {
            "tags": []
          },
          "execution_count": 322
        }
      ]
    },
    {
      "cell_type": "markdown",
      "metadata": {
        "id": "iCspV_iACdvT"
      },
      "source": [
        "Final Logistic Regression"
      ]
    },
    {
      "cell_type": "code",
      "metadata": {
        "colab": {
          "base_uri": "https://localhost:8080/"
        },
        "id": "AWo03-oqGXMi",
        "outputId": "035e940a-3167-484e-9624-5859b03850f8"
      },
      "source": [
        "lr_ = LogisticRegression(C= 4.5, penalty='l2', solver='sag')\n",
        "lrf=lr_.fit(X_train_scaled, y_train)\n",
        "lr_accuracy=lrf.score(X_test_scaled, y_test)"
      ],
      "execution_count": null,
      "outputs": [
        {
          "output_type": "stream",
          "text": [
            "/usr/local/lib/python3.7/dist-packages/sklearn/linear_model/_sag.py:330: ConvergenceWarning: The max_iter was reached which means the coef_ did not converge\n",
            "  \"the coef_ did not converge\", ConvergenceWarning)\n"
          ],
          "name": "stderr"
        }
      ]
    },
    {
      "cell_type": "code",
      "metadata": {
        "id": "eDuNOPiiC_uA"
      },
      "source": [
        "y_pred = lrf.predict(X_test_scaled)"
      ],
      "execution_count": null,
      "outputs": []
    },
    {
      "cell_type": "code",
      "metadata": {
        "colab": {
          "base_uri": "https://localhost:8080/"
        },
        "id": "TYDND3ZLDHWP",
        "outputId": "2ad19b38-afbe-4180-899b-ac3956d529b7"
      },
      "source": [
        "print(\"Accuracy(SVM) = \",lr_accuracy*100,\"%\")"
      ],
      "execution_count": null,
      "outputs": [
        {
          "output_type": "stream",
          "text": [
            "Accuracy(SVM) =  64.4 %\n"
          ],
          "name": "stdout"
        }
      ]
    },
    {
      "cell_type": "code",
      "metadata": {
        "colab": {
          "base_uri": "https://localhost:8080/"
        },
        "id": "5cA2R5lnDOSa",
        "outputId": "34b1a916-5d0a-4b2a-9edd-8d678fc595d4"
      },
      "source": [
        "confusion_matrix(y_test, y_pred)"
      ],
      "execution_count": null,
      "outputs": [
        {
          "output_type": "execute_result",
          "data": {
            "text/plain": [
              "array([[11,  0,  1,  0,  0,  2,  3,  0,  5,  8],\n",
              "       [ 0, 30,  2,  0,  0,  0,  0,  0,  0,  1],\n",
              "       [ 2,  0, 15,  0,  0,  3,  0,  1,  0,  2],\n",
              "       [ 0,  0,  0,  8,  2,  0,  0,  1,  1,  5],\n",
              "       [ 0,  0,  0,  1, 15,  0,  1,  2,  6,  1],\n",
              "       [ 0,  0,  5,  0,  0, 16,  0,  0,  0,  0],\n",
              "       [ 2,  0,  0,  5,  0,  0, 20,  0,  0,  0],\n",
              "       [ 0,  0,  0,  1,  0,  1,  0, 24,  1,  0],\n",
              "       [ 1,  0,  4,  1,  5,  0,  0,  1, 17,  1],\n",
              "       [ 3,  0,  1,  0,  0,  1,  2,  1,  3,  5]])"
            ]
          },
          "metadata": {
            "tags": []
          },
          "execution_count": 326
        }
      ]
    },
    {
      "cell_type": "code",
      "metadata": {
        "id": "SARjoDuoklzL"
      },
      "source": [
        "from sklearn import model_selection\n",
        "from sklearn.ensemble import VotingClassifier"
      ],
      "execution_count": null,
      "outputs": []
    },
    {
      "cell_type": "code",
      "metadata": {
        "id": "F7hwLtAVkmqo"
      },
      "source": [
        "estimators = []\n",
        "estimators.append(('KNN', knn))\n",
        "estimators.append(('SVM', clf))\n",
        "estimators.append(('LR', lr))"
      ],
      "execution_count": null,
      "outputs": []
    },
    {
      "cell_type": "code",
      "metadata": {
        "id": "K6DQ8tKnEFKA"
      },
      "source": [
        "#seed = 2\n",
        "#kfold = model_selection.KFold(n_splits=2, random_state=seed)"
      ],
      "execution_count": null,
      "outputs": []
    },
    {
      "cell_type": "code",
      "metadata": {
        "colab": {
          "base_uri": "https://localhost:8080/"
        },
        "id": "6s6vquAFpf9c",
        "outputId": "52e527df-9e6c-4b5d-bf42-ab0447c7d8d6"
      },
      "source": [
        "#create the ensemble model\n",
        "ensemble = VotingClassifier(estimators)\n",
        "results = model_selection.cross_val_score(ensemble,x, y,scoring='accuracy')"
      ],
      "execution_count": null,
      "outputs": [
        {
          "output_type": "stream",
          "text": [
            "/usr/local/lib/python3.7/dist-packages/sklearn/linear_model/_logistic.py:940: ConvergenceWarning: lbfgs failed to converge (status=1):\n",
            "STOP: TOTAL NO. of ITERATIONS REACHED LIMIT.\n",
            "\n",
            "Increase the number of iterations (max_iter) or scale the data as shown in:\n",
            "    https://scikit-learn.org/stable/modules/preprocessing.html\n",
            "Please also refer to the documentation for alternative solver options:\n",
            "    https://scikit-learn.org/stable/modules/linear_model.html#logistic-regression\n",
            "  extra_warning_msg=_LOGISTIC_SOLVER_CONVERGENCE_MSG)\n",
            "/usr/local/lib/python3.7/dist-packages/sklearn/linear_model/_logistic.py:940: ConvergenceWarning: lbfgs failed to converge (status=1):\n",
            "STOP: TOTAL NO. of ITERATIONS REACHED LIMIT.\n",
            "\n",
            "Increase the number of iterations (max_iter) or scale the data as shown in:\n",
            "    https://scikit-learn.org/stable/modules/preprocessing.html\n",
            "Please also refer to the documentation for alternative solver options:\n",
            "    https://scikit-learn.org/stable/modules/linear_model.html#logistic-regression\n",
            "  extra_warning_msg=_LOGISTIC_SOLVER_CONVERGENCE_MSG)\n",
            "/usr/local/lib/python3.7/dist-packages/sklearn/linear_model/_logistic.py:940: ConvergenceWarning: lbfgs failed to converge (status=1):\n",
            "STOP: TOTAL NO. of ITERATIONS REACHED LIMIT.\n",
            "\n",
            "Increase the number of iterations (max_iter) or scale the data as shown in:\n",
            "    https://scikit-learn.org/stable/modules/preprocessing.html\n",
            "Please also refer to the documentation for alternative solver options:\n",
            "    https://scikit-learn.org/stable/modules/linear_model.html#logistic-regression\n",
            "  extra_warning_msg=_LOGISTIC_SOLVER_CONVERGENCE_MSG)\n",
            "/usr/local/lib/python3.7/dist-packages/sklearn/linear_model/_logistic.py:940: ConvergenceWarning: lbfgs failed to converge (status=1):\n",
            "STOP: TOTAL NO. of ITERATIONS REACHED LIMIT.\n",
            "\n",
            "Increase the number of iterations (max_iter) or scale the data as shown in:\n",
            "    https://scikit-learn.org/stable/modules/preprocessing.html\n",
            "Please also refer to the documentation for alternative solver options:\n",
            "    https://scikit-learn.org/stable/modules/linear_model.html#logistic-regression\n",
            "  extra_warning_msg=_LOGISTIC_SOLVER_CONVERGENCE_MSG)\n",
            "/usr/local/lib/python3.7/dist-packages/sklearn/linear_model/_logistic.py:940: ConvergenceWarning: lbfgs failed to converge (status=1):\n",
            "STOP: TOTAL NO. of ITERATIONS REACHED LIMIT.\n",
            "\n",
            "Increase the number of iterations (max_iter) or scale the data as shown in:\n",
            "    https://scikit-learn.org/stable/modules/preprocessing.html\n",
            "Please also refer to the documentation for alternative solver options:\n",
            "    https://scikit-learn.org/stable/modules/linear_model.html#logistic-regression\n",
            "  extra_warning_msg=_LOGISTIC_SOLVER_CONVERGENCE_MSG)\n"
          ],
          "name": "stderr"
        }
      ]
    },
    {
      "cell_type": "code",
      "metadata": {
        "colab": {
          "base_uri": "https://localhost:8080/"
        },
        "id": "oUc9J6X4F00J",
        "outputId": "0d3c779c-f7d8-4ede-9636-b08a33a88b1b"
      },
      "source": [
        "print(results.mean())"
      ],
      "execution_count": null,
      "outputs": [
        {
          "output_type": "stream",
          "text": [
            "0.63\n"
          ],
          "name": "stdout"
        }
      ]
    },
    {
      "cell_type": "markdown",
      "metadata": {
        "id": "Wnh9HS99LNBM"
      },
      "source": [
        "## **Testing**"
      ]
    },
    {
      "cell_type": "code",
      "metadata": {
        "id": "t1z5uBnLLNiU"
      },
      "source": [
        "import librosa"
      ],
      "execution_count": null,
      "outputs": []
    },
    {
      "cell_type": "code",
      "metadata": {
        "id": "k0dwudGPLRFg"
      },
      "source": [
        "def testfile(filename):\n",
        "\n",
        "\n",
        "    y, sr = librosa.load(filename)\n",
        "    #fetching tempo\n",
        "\n",
        "    onset_env = librosa.onset.onset_strength(y, sr)\n",
        "    tempo = librosa.beat.tempo(onset_envelope=onset_env, sr=sr)\n",
        "\n",
        "    #fetching beats\n",
        "\n",
        "    y_harmonic, y_percussive = librosa.effects.hpss(y)\n",
        "    tempo, beat_frames = librosa.beat.beat_track(y=y_percussive,sr=sr)\n",
        "\n",
        "    #chroma_stft\n",
        "\n",
        "    chroma_stft = librosa.feature.chroma_stft(y=y, sr=sr)\n",
        "\n",
        "    #rmse\n",
        "\n",
        "    rmse = librosa.feature.rms(y=y)\n",
        "\n",
        "    #fetching spectral centroid\n",
        "\n",
        "    spec_centroid = librosa.feature.spectral_centroid(y, sr=sr)[0]\n",
        "\n",
        "    #spectral bandwidth\n",
        "\n",
        "    spec_bw = librosa.feature.spectral_bandwidth(y=y, sr=sr)\n",
        "\n",
        "    #fetching spectral rolloff\n",
        "\n",
        "    spec_rolloff = librosa.feature.spectral_rolloff(y+0.01, sr=sr)[0]\n",
        "\n",
        "    #zero crossing rate\n",
        "\n",
        "    zero_crossing = librosa.feature.zero_crossing_rate(y)\n",
        "\n",
        "    #mfcc\n",
        "\n",
        "    mfcc = librosa.feature.mfcc(y=y, sr=sr)\n",
        "\n",
        "    #metadata dictionary\n",
        "\n",
        "    metadata_dict = {'tempo':tempo,'chroma_stft':np.mean(chroma_stft),'rmse':np.mean(rmse),\n",
        "                     'spectral_centroid':np.mean(spec_centroid),'spectral_bandwidth':np.mean(spec_bw), \n",
        "                     'rolloff':np.mean(spec_rolloff), 'zero_crossing_rates':np.mean(zero_crossing)}\n",
        "\n",
        "    for i in range(1,21):\n",
        "        metadata_dict.update({'mfcc'+str(i):np.mean(mfcc[i-1])})\n",
        "\n",
        "    return list(metadata_dict.values())\n",
        "\n",
        "\n",
        "\n"
      ],
      "execution_count": null,
      "outputs": []
    },
    {
      "cell_type": "markdown",
      "metadata": {
        "id": "q1i9ex_oLV_U"
      },
      "source": [
        ""
      ]
    },
    {
      "cell_type": "code",
      "metadata": {
        "id": "estAu60MLWeB"
      },
      "source": [
        "file=\"/content/gdrive/My Drive/Dataset/test1.wav\"\n",
        "a = testfile(file)"
      ],
      "execution_count": null,
      "outputs": []
    },
    {
      "cell_type": "code",
      "metadata": {
        "colab": {
          "base_uri": "https://localhost:8080/"
        },
        "id": "1_Oqh4meLeDn",
        "outputId": "067dd2b1-9c03-40ef-9a9e-42280cab085d"
      },
      "source": [
        "a"
      ],
      "execution_count": null,
      "outputs": [
        {
          "output_type": "execute_result",
          "data": {
            "text/plain": [
              "[135.99917763157896,\n",
              " 0.39582816,\n",
              " 0.11203362,\n",
              " 2292.3824232586726,\n",
              " 2149.2989810829604,\n",
              " 4809.581641531323,\n",
              " 0.12360086463167054,\n",
              " -79.0543,\n",
              " 106.82529,\n",
              " -38.75037,\n",
              " 39.862026,\n",
              " -26.758398,\n",
              " 32.47765,\n",
              " -15.028122,\n",
              " 29.708822,\n",
              " -11.373499,\n",
              " 13.774842,\n",
              " -14.504783,\n",
              " 16.16676,\n",
              " -3.0738242,\n",
              " 3.5686011,\n",
              " -17.277794,\n",
              " -2.1238062,\n",
              " -12.570454,\n",
              " -1.23836,\n",
              " -1.2059714,\n",
              " 9.0358]"
            ]
          },
          "metadata": {
            "tags": []
          },
          "execution_count": 359
        }
      ]
    },
    {
      "cell_type": "markdown",
      "metadata": {
        "id": "1lEoD7EkLydS"
      },
      "source": [
        "Predicting Using KNN"
      ]
    },
    {
      "cell_type": "code",
      "metadata": {
        "colab": {
          "base_uri": "https://localhost:8080/"
        },
        "id": "mz6--o18LutZ",
        "outputId": "ea434135-9b54-48ed-c66c-ebaedd82f3e8"
      },
      "source": [
        "d1 =np.array(a)\n",
        "data1 = scaler.transform([d1])\n",
        "genre_prediction = knnf.predict(data1)\n",
        "print(lookup_genre_name[genre_prediction[0]])"
      ],
      "execution_count": null,
      "outputs": [
        {
          "output_type": "stream",
          "text": [
            "metal\n"
          ],
          "name": "stdout"
        }
      ]
    },
    {
      "cell_type": "code",
      "metadata": {
        "id": "JQGHtsNKQd3i",
        "colab": {
          "base_uri": "https://localhost:8080/"
        },
        "outputId": "759c52b1-380a-465e-e0b1-05debceae9bc"
      },
      "source": [
        "genre_prediction"
      ],
      "execution_count": null,
      "outputs": [
        {
          "output_type": "execute_result",
          "data": {
            "text/plain": [
              "array([6], dtype=int8)"
            ]
          },
          "metadata": {
            "tags": []
          },
          "execution_count": 361
        }
      ]
    },
    {
      "cell_type": "markdown",
      "metadata": {
        "id": "sB3TZWJrsPSv"
      },
      "source": [
        "Predicting Using SVM"
      ]
    },
    {
      "cell_type": "code",
      "metadata": {
        "colab": {
          "base_uri": "https://localhost:8080/"
        },
        "id": "RpFIPv6osMCt",
        "outputId": "db860a88-b6d9-4cac-d309-166b53a0b347"
      },
      "source": [
        "genre_prediction = clff.predict(data1)\n",
        "print(lookup_genre_name[genre_prediction[0]])"
      ],
      "execution_count": null,
      "outputs": [
        {
          "output_type": "stream",
          "text": [
            "metal\n"
          ],
          "name": "stdout"
        }
      ]
    },
    {
      "cell_type": "markdown",
      "metadata": {
        "id": "6DSMNHk3IFad"
      },
      "source": [
        "Predicting Using Logistic Regression"
      ]
    },
    {
      "cell_type": "code",
      "metadata": {
        "id": "-uOZWtoUYO0m",
        "colab": {
          "base_uri": "https://localhost:8080/"
        },
        "outputId": "89f90a27-0a63-45fd-de60-e04a28d5dc22"
      },
      "source": [
        "genre_prediction = lrf.predict(data1)\n",
        "print(lookup_genre_name[genre_prediction[0]])"
      ],
      "execution_count": null,
      "outputs": [
        {
          "output_type": "stream",
          "text": [
            "disco\n"
          ],
          "name": "stdout"
        }
      ]
    },
    {
      "cell_type": "code",
      "metadata": {
        "id": "fkJPyALXICUe"
      },
      "source": [
        ""
      ],
      "execution_count": null,
      "outputs": []
    }
  ]
}